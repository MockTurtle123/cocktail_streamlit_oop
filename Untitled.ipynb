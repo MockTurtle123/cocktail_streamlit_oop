{
 "cells": [
  {
   "cell_type": "code",
   "execution_count": 1,
   "id": "342f9dad-995c-40f1-91c4-ae408470fa05",
   "metadata": {},
   "outputs": [
    {
     "data": {
      "text/html": [
       "<div>\n",
       "<style scoped>\n",
       "    .dataframe tbody tr th:only-of-type {\n",
       "        vertical-align: middle;\n",
       "    }\n",
       "\n",
       "    .dataframe tbody tr th {\n",
       "        vertical-align: top;\n",
       "    }\n",
       "\n",
       "    .dataframe thead th {\n",
       "        text-align: right;\n",
       "    }\n",
       "</style>\n",
       "<table border=\"1\" class=\"dataframe\">\n",
       "  <thead>\n",
       "    <tr style=\"text-align: right;\">\n",
       "      <th></th>\n",
       "      <th>name</th>\n",
       "      <th>glass</th>\n",
       "      <th>category</th>\n",
       "      <th>ingredients</th>\n",
       "      <th>garnish</th>\n",
       "      <th>preparation</th>\n",
       "    </tr>\n",
       "  </thead>\n",
       "  <tbody>\n",
       "    <tr>\n",
       "      <th>0</th>\n",
       "      <td>Vesper</td>\n",
       "      <td>martini</td>\n",
       "      <td>Before Dinner Cocktail</td>\n",
       "      <td>[{'unit': 'cl', 'amount': 6, 'ingredient': 'Gi...</td>\n",
       "      <td>Lemon twist</td>\n",
       "      <td>Shake and strain into a chilled cocktail glass.</td>\n",
       "    </tr>\n",
       "    <tr>\n",
       "      <th>1</th>\n",
       "      <td>Bacardi</td>\n",
       "      <td>martini</td>\n",
       "      <td>Before Dinner Cocktail</td>\n",
       "      <td>[{'unit': 'cl', 'amount': 4.5, 'ingredient': '...</td>\n",
       "      <td>NaN</td>\n",
       "      <td>Shake with ice cubes. Strain into chilled cock...</td>\n",
       "    </tr>\n",
       "    <tr>\n",
       "      <th>2</th>\n",
       "      <td>Negroni</td>\n",
       "      <td>old-fashioned</td>\n",
       "      <td>Before Dinner Cocktail</td>\n",
       "      <td>[{'unit': 'cl', 'amount': 3, 'ingredient': 'Gi...</td>\n",
       "      <td>Half an orange slice</td>\n",
       "      <td>Build into old-fashioned glass filled with ice...</td>\n",
       "    </tr>\n",
       "    <tr>\n",
       "      <th>3</th>\n",
       "      <td>Rose</td>\n",
       "      <td>martini</td>\n",
       "      <td>NaN</td>\n",
       "      <td>[{'unit': 'cl', 'amount': 2, 'ingredient': 'Ki...</td>\n",
       "      <td>NaN</td>\n",
       "      <td>Stir all ingredients with ice and strain into ...</td>\n",
       "    </tr>\n",
       "    <tr>\n",
       "      <th>4</th>\n",
       "      <td>Old Fashioned</td>\n",
       "      <td>old-fashioned</td>\n",
       "      <td>Before Dinner Cocktail</td>\n",
       "      <td>[{'unit': 'cl', 'amount': 4.5, 'ingredient': '...</td>\n",
       "      <td>Orange slice and cherry</td>\n",
       "      <td>Place sugar cube in old-fashioned glass and sa...</td>\n",
       "    </tr>\n",
       "    <tr>\n",
       "      <th>...</th>\n",
       "      <td>...</td>\n",
       "      <td>...</td>\n",
       "      <td>...</td>\n",
       "      <td>...</td>\n",
       "      <td>...</td>\n",
       "      <td>...</td>\n",
       "    </tr>\n",
       "    <tr>\n",
       "      <th>72</th>\n",
       "      <td>Caipirinha</td>\n",
       "      <td>old-fashioned</td>\n",
       "      <td>All Day Cocktail</td>\n",
       "      <td>[{'unit': 'cl', 'amount': 5, 'ingredient': 'Ca...</td>\n",
       "      <td>NaN</td>\n",
       "      <td>Place lime and sugar in old fashion glass and ...</td>\n",
       "    </tr>\n",
       "    <tr>\n",
       "      <th>73</th>\n",
       "      <td>Vampiro</td>\n",
       "      <td>highball</td>\n",
       "      <td>NaN</td>\n",
       "      <td>[{'unit': 'cl', 'amount': 5, 'ingredient': 'Te...</td>\n",
       "      <td>Lime wedge and a green or red chili</td>\n",
       "      <td>Shake with ice cubes. Strain into a highball g...</td>\n",
       "    </tr>\n",
       "    <tr>\n",
       "      <th>74</th>\n",
       "      <td>Kamikaze</td>\n",
       "      <td>martini</td>\n",
       "      <td>All Day Cocktail</td>\n",
       "      <td>[{'unit': 'cl', 'amount': 3, 'ingredient': 'Vo...</td>\n",
       "      <td>NaN</td>\n",
       "      <td>Shake and strain into a chilled cocktail glass.</td>\n",
       "    </tr>\n",
       "    <tr>\n",
       "      <th>75</th>\n",
       "      <td>White Lady</td>\n",
       "      <td>martini</td>\n",
       "      <td>All Day Cocktail</td>\n",
       "      <td>[{'unit': 'cl', 'amount': 4, 'ingredient': 'Gi...</td>\n",
       "      <td>NaN</td>\n",
       "      <td>Shake with ice cubes. Strain into large cockta...</td>\n",
       "    </tr>\n",
       "    <tr>\n",
       "      <th>76</th>\n",
       "      <td>Harvey Wallbanger</td>\n",
       "      <td>highball</td>\n",
       "      <td>All Day Cocktail</td>\n",
       "      <td>[{'unit': 'cl', 'amount': 4.5, 'ingredient': '...</td>\n",
       "      <td>Orance slice and a cherry</td>\n",
       "      <td>Build vodka and orange juice into a highball g...</td>\n",
       "    </tr>\n",
       "  </tbody>\n",
       "</table>\n",
       "<p>77 rows × 6 columns</p>\n",
       "</div>"
      ],
      "text/plain": [
       "                 name          glass                category  \\\n",
       "0              Vesper        martini  Before Dinner Cocktail   \n",
       "1             Bacardi        martini  Before Dinner Cocktail   \n",
       "2             Negroni  old-fashioned  Before Dinner Cocktail   \n",
       "3                Rose        martini                     NaN   \n",
       "4       Old Fashioned  old-fashioned  Before Dinner Cocktail   \n",
       "..                ...            ...                     ...   \n",
       "72         Caipirinha  old-fashioned        All Day Cocktail   \n",
       "73            Vampiro       highball                     NaN   \n",
       "74           Kamikaze        martini        All Day Cocktail   \n",
       "75         White Lady        martini        All Day Cocktail   \n",
       "76  Harvey Wallbanger       highball        All Day Cocktail   \n",
       "\n",
       "                                          ingredients  \\\n",
       "0   [{'unit': 'cl', 'amount': 6, 'ingredient': 'Gi...   \n",
       "1   [{'unit': 'cl', 'amount': 4.5, 'ingredient': '...   \n",
       "2   [{'unit': 'cl', 'amount': 3, 'ingredient': 'Gi...   \n",
       "3   [{'unit': 'cl', 'amount': 2, 'ingredient': 'Ki...   \n",
       "4   [{'unit': 'cl', 'amount': 4.5, 'ingredient': '...   \n",
       "..                                                ...   \n",
       "72  [{'unit': 'cl', 'amount': 5, 'ingredient': 'Ca...   \n",
       "73  [{'unit': 'cl', 'amount': 5, 'ingredient': 'Te...   \n",
       "74  [{'unit': 'cl', 'amount': 3, 'ingredient': 'Vo...   \n",
       "75  [{'unit': 'cl', 'amount': 4, 'ingredient': 'Gi...   \n",
       "76  [{'unit': 'cl', 'amount': 4.5, 'ingredient': '...   \n",
       "\n",
       "                                garnish  \\\n",
       "0                           Lemon twist   \n",
       "1                                   NaN   \n",
       "2                  Half an orange slice   \n",
       "3                                   NaN   \n",
       "4               Orange slice and cherry   \n",
       "..                                  ...   \n",
       "72                                  NaN   \n",
       "73  Lime wedge and a green or red chili   \n",
       "74                                  NaN   \n",
       "75                                  NaN   \n",
       "76            Orance slice and a cherry   \n",
       "\n",
       "                                          preparation  \n",
       "0     Shake and strain into a chilled cocktail glass.  \n",
       "1   Shake with ice cubes. Strain into chilled cock...  \n",
       "2   Build into old-fashioned glass filled with ice...  \n",
       "3   Stir all ingredients with ice and strain into ...  \n",
       "4   Place sugar cube in old-fashioned glass and sa...  \n",
       "..                                                ...  \n",
       "72  Place lime and sugar in old fashion glass and ...  \n",
       "73  Shake with ice cubes. Strain into a highball g...  \n",
       "74    Shake and strain into a chilled cocktail glass.  \n",
       "75  Shake with ice cubes. Strain into large cockta...  \n",
       "76  Build vodka and orange juice into a highball g...  \n",
       "\n",
       "[77 rows x 6 columns]"
      ]
     },
     "execution_count": 1,
     "metadata": {},
     "output_type": "execute_result"
    }
   ],
   "source": [
    "import pandas as pd\n",
    "df = pd.read_json('recipes.json')\n",
    "df"
   ]
  },
  {
   "cell_type": "code",
   "execution_count": 2,
   "id": "9077a320-9a5e-47c7-87d6-684db6d4fa11",
   "metadata": {
    "scrolled": true
   },
   "outputs": [
    {
     "data": {
      "text/plain": [
       "array(['Vesper', 'Bacardi', 'Negroni', 'Rose', 'Old Fashioned', 'Tuxedo',\n",
       "       'Mojito', \"Horse's Neck\", \"Planter's Punch\", 'Sea Breeze',\n",
       "       'Pisco Sour', 'Long Island Iced Tea', 'Clover Club', 'Angel Face',\n",
       "       'Mimosa', 'Whiskey Sour', 'Screwdriver', 'Cuba Libre', 'Manhattan',\n",
       "       'Porto Flip', 'Gin Fizz', 'Espresso Martini', 'Margarita',\n",
       "       'French 75', 'Yellow Bird', 'Pina Colada', 'Aviation', 'Bellini',\n",
       "       'Grasshopper', 'Tequila Sunrise', 'Daiquiri', 'Rusty Nail', 'B52',\n",
       "       'Stinger', 'Golden Dream', 'God Mother', 'Spritz Veneziano',\n",
       "       'Bramble', 'Alexander', 'Lemon Drop Martini', 'French Martini',\n",
       "       'Black Russian', 'Bloody Mary', 'Mai-tai', 'Barracuda',\n",
       "       'Sex on the Beach', 'Monkey Gland', 'Derby', 'Sidecar',\n",
       "       'Irish Coffee', 'Sazerac', 'Americano', 'Singapore Sling',\n",
       "       'French Connection', 'Moscow Mule', 'John Collins', 'Kir',\n",
       "       'Mint Julep', \"Tommy's Margarita\", 'Paradise', 'Dirty Martini',\n",
       "       'Champagne Cocktail', 'Mary Pickford', 'Hemingway Special',\n",
       "       \"Dark 'n' Stormy\", 'Ramos Fizz', 'Russian Spring Punch',\n",
       "       'God Father', 'Cosmopolitan', 'Dry Martini', 'Between the Sheets',\n",
       "       'Casino', 'Caipirinha', 'Vampiro', 'Kamikaze', 'White Lady',\n",
       "       'Harvey Wallbanger'], dtype=object)"
      ]
     },
     "execution_count": 2,
     "metadata": {},
     "output_type": "execute_result"
    }
   ],
   "source": [
    "name_list = df['name'].values\n",
    "name_list"
   ]
  },
  {
   "cell_type": "code",
   "execution_count": 3,
   "id": "273e7c30-f4da-458d-b205-996d367280d0",
   "metadata": {},
   "outputs": [
    {
     "data": {
      "text/plain": [
       "[{'unit': 'cl', 'amount': 6, 'ingredient': 'Gin'},\n",
       " {'unit': 'cl', 'amount': 1.5, 'ingredient': 'Vodka'},\n",
       " {'unit': 'cl', 'amount': 0.75, 'ingredient': 'Lillet Blonde'}]"
      ]
     },
     "execution_count": 3,
     "metadata": {},
     "output_type": "execute_result"
    }
   ],
   "source": [
    "df.loc[df['name'] == 'Vesper', 'ingredients'].squeeze()"
   ]
  },
  {
   "cell_type": "code",
   "execution_count": 4,
   "id": "817999b4-3193-4b33-9b47-60f587920447",
   "metadata": {},
   "outputs": [
    {
     "data": {
      "text/plain": [
       "[{'unit': 'cl', 'amount': 6, 'ingredient': 'Gin'},\n",
       " {'unit': 'cl', 'amount': 1.5, 'ingredient': 'Vodka'},\n",
       " {'unit': 'cl', 'amount': 0.75, 'ingredient': 'Lillet Blonde'}]"
      ]
     },
     "execution_count": 4,
     "metadata": {},
     "output_type": "execute_result"
    }
   ],
   "source": [
    "df.loc[0]['ingredients']"
   ]
  },
  {
   "cell_type": "code",
   "execution_count": 7,
   "id": "d7366086-ffea-49d6-b272-8486ec81e8ab",
   "metadata": {},
   "outputs": [
    {
     "data": {
      "text/plain": [
       "[47]"
      ]
     },
     "execution_count": 7,
     "metadata": {},
     "output_type": "execute_result"
    }
   ],
   "source": [
    "df.index[df['name']=='Derby'].tolist()"
   ]
  },
  {
   "cell_type": "code",
   "execution_count": 9,
   "id": "5fcbeee2-c5ce-4e4b-a3e3-8920bd07e4aa",
   "metadata": {},
   "outputs": [
    {
     "data": {
      "text/plain": [
       "'Vesper'"
      ]
     },
     "execution_count": 9,
     "metadata": {},
     "output_type": "execute_result"
    }
   ],
   "source": [
    "df.iloc[0]['name']"
   ]
  },
  {
   "cell_type": "code",
   "execution_count": null,
   "id": "00981333-7c39-4f63-aa06-a9d571282c8a",
   "metadata": {},
   "outputs": [],
   "source": []
  }
 ],
 "metadata": {
  "kernelspec": {
   "display_name": "Python 3 (ipykernel)",
   "language": "python",
   "name": "python3"
  },
  "language_info": {
   "codemirror_mode": {
    "name": "ipython",
    "version": 3
   },
   "file_extension": ".py",
   "mimetype": "text/x-python",
   "name": "python",
   "nbconvert_exporter": "python",
   "pygments_lexer": "ipython3",
   "version": "3.11.6"
  }
 },
 "nbformat": 4,
 "nbformat_minor": 5
}
